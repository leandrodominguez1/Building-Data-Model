{
 "cells": [
  {
   "cell_type": "code",
   "execution_count": 2,
   "id": "7d8d20a2",
   "metadata": {},
   "outputs": [
    {
     "name": "stdout",
     "output_type": "stream",
     "text": [
      "Requirement already satisfied: psycopg2 in c:\\program files\\python310\\lib\\site-packages (2.9.3)\n"
     ]
    }
   ],
   "source": [
    "!pip install psycopg2"
   ]
  },
  {
   "cell_type": "code",
   "execution_count": 3,
   "id": "b080e8bc",
   "metadata": {},
   "outputs": [],
   "source": [
    "import psycopg2"
   ]
  },
  {
   "cell_type": "code",
   "execution_count": null,
   "id": "b1610c9f",
   "metadata": {},
   "outputs": [],
   "source": [
    "#Connection to Postgres DB"
   ]
  },
  {
   "cell_type": "code",
   "execution_count": 24,
   "id": "0fd640d1",
   "metadata": {},
   "outputs": [],
   "source": [
    "try:\n",
    "    conn = psycopg2.connect('host=127.0.0.1 dbname=postgres user=postgres password=admin')\n",
    "except psycopg2.Error as e:\n",
    "    print('Error: Could not make connection to Postgres Database')\n",
    "    print(e)"
   ]
  },
  {
   "cell_type": "code",
   "execution_count": 26,
   "id": "e510ee91",
   "metadata": {},
   "outputs": [],
   "source": [
    "#Creating a cursor object, to make queries to the DB"
   ]
  },
  {
   "cell_type": "code",
   "execution_count": 27,
   "id": "83bb77a0",
   "metadata": {},
   "outputs": [],
   "source": [
    "try:\n",
    "    cursor = conn.cursor()\n",
    "except psycopg2.Error as e:\n",
    "    print('Error: Could not make connection to Postgres Database')\n",
    "    print(e)"
   ]
  },
  {
   "cell_type": "code",
   "execution_count": 28,
   "id": "c3a8d2f4",
   "metadata": {},
   "outputs": [],
   "source": [
    "#Automatic commit"
   ]
  },
  {
   "cell_type": "code",
   "execution_count": 29,
   "id": "5f95ca52",
   "metadata": {},
   "outputs": [],
   "source": [
    "conn.set_session(autocommit=True)"
   ]
  },
  {
   "cell_type": "code",
   "execution_count": 30,
   "id": "8f4228fe",
   "metadata": {},
   "outputs": [],
   "source": [
    "#Creating DB"
   ]
  },
  {
   "cell_type": "code",
   "execution_count": 31,
   "id": "199b3195",
   "metadata": {},
   "outputs": [],
   "source": [
    "try:\n",
    "    cursor.execute('create database students_info')\n",
    "except psycopg2.Error as e:\n",
    "    print('Error: Could not make connection to Postgres Database')\n",
    "    print(e)"
   ]
  },
  {
   "cell_type": "code",
   "execution_count": 33,
   "id": "621d88b0",
   "metadata": {},
   "outputs": [],
   "source": [
    "#Now, we close the first connection and connect to our new db called students_info"
   ]
  },
  {
   "cell_type": "code",
   "execution_count": 39,
   "id": "535b10cf",
   "metadata": {},
   "outputs": [],
   "source": [
    "try:\n",
    "    conn.close()\n",
    "except psycopg2.Error as e:\n",
    "    print('Error: Could not close connection')\n",
    "    print(e)\n",
    "    \n",
    "try:\n",
    "    conn = psycopg2.connect('host=127.0.0.1 dbname=students_info user=postgres password=admin')\n",
    "except psycopg2.Error as e:\n",
    "    print('Error: Could not make connection to Postgres Database')\n",
    "    print(e)\n",
    "\n",
    "try:\n",
    "    cursor = conn.cursor()\n",
    "except psycopg2.Error as e:\n",
    "    print('Error: Could not make connection to Postgres Database')\n",
    "    print(e)    \n",
    "\n",
    "conn.set_session(autocommit=True)"
   ]
  },
  {
   "cell_type": "code",
   "execution_count": 40,
   "id": "72da0801",
   "metadata": {},
   "outputs": [],
   "source": [
    "#Create table"
   ]
  },
  {
   "cell_type": "code",
   "execution_count": 43,
   "id": "88b4c60a",
   "metadata": {},
   "outputs": [],
   "source": [
    "try:\n",
    "    cursor.execute('CREATE TABLE IF NOT EXISTS students (students_id int, name varchar, age int, \\\n",
    "    gender varchar, subject varchar, marks int );')\n",
    "except psycopg2.Error as e:\n",
    "    print('Error: Could not make createt table')\n",
    "    print(e) "
   ]
  },
  {
   "cell_type": "code",
   "execution_count": 44,
   "id": "e6710b4f",
   "metadata": {},
   "outputs": [],
   "source": [
    "#Inserting data"
   ]
  },
  {
   "cell_type": "code",
   "execution_count": 46,
   "id": "fbb5bcd0",
   "metadata": {},
   "outputs": [],
   "source": [
    "try:\n",
    "    cursor.execute('INSERT INTO students (students_id, name, age, gender, subject, marks) \\\n",
    "                    VALUES (%s,%s,%s,%s,%s,%s)',\\\n",
    "                  (1,'Leandro',26,'Male','Python',8))\n",
    "except psycopg2.Error as e:\n",
    "    print('Error: Could not insert data')\n",
    "    print(e)   \n",
    "\n",
    "try:\n",
    "    cursor.execute('INSERT INTO students (students_id, name, age, gender, subject, marks) \\\n",
    "                    VALUES (%s,%s,%s,%s,%s,%s)',\\\n",
    "                  (2,'Gonzalo',20,'Male','Java',5))\n",
    "except psycopg2.Error as e:\n",
    "    print('Error: Could not insert data')\n",
    "    print(e)     "
   ]
  },
  {
   "cell_type": "code",
   "execution_count": 47,
   "id": "ca83c19a",
   "metadata": {},
   "outputs": [],
   "source": [
    "#Validating data"
   ]
  },
  {
   "cell_type": "code",
   "execution_count": 48,
   "id": "6d5ee0af",
   "metadata": {},
   "outputs": [
    {
     "name": "stdout",
     "output_type": "stream",
     "text": [
      "(1, 'Leandro', 26, 'Male', 'Python', 8)\n",
      "(2, 'Gonzalo', 20, 'Male', 'Java', 5)\n"
     ]
    }
   ],
   "source": [
    "try:\n",
    "    cursor.execute('SELECT * FROM students')\n",
    "except psycopg2.Error as e:\n",
    "    print('Error: select')\n",
    "    print(e)\n",
    "\n",
    "row = cursor.fetchone()\n",
    "while row:\n",
    "    print(row)\n",
    "    row = cursor.fetchone()"
   ]
  },
  {
   "cell_type": "code",
   "execution_count": 49,
   "id": "bbdab1c0",
   "metadata": {},
   "outputs": [],
   "source": [
    "#Close cursor and connection"
   ]
  },
  {
   "cell_type": "code",
   "execution_count": 50,
   "id": "41887425",
   "metadata": {},
   "outputs": [],
   "source": [
    "cursor.close()\n",
    "conn.close()"
   ]
  },
  {
   "cell_type": "code",
   "execution_count": null,
   "id": "23198f95",
   "metadata": {},
   "outputs": [],
   "source": []
  }
 ],
 "metadata": {
  "kernelspec": {
   "display_name": "Python 3 (ipykernel)",
   "language": "python",
   "name": "python3"
  },
  "language_info": {
   "codemirror_mode": {
    "name": "ipython",
    "version": 3
   },
   "file_extension": ".py",
   "mimetype": "text/x-python",
   "name": "python",
   "nbconvert_exporter": "python",
   "pygments_lexer": "ipython3",
   "version": "3.10.8"
  }
 },
 "nbformat": 4,
 "nbformat_minor": 5
}
