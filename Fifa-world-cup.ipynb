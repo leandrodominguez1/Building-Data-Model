{
 "cells": [
  {
   "cell_type": "code",
   "execution_count": 7,
   "id": "c263a650",
   "metadata": {
    "scrolled": true
   },
   "outputs": [
    {
     "name": "stdout",
     "output_type": "stream",
     "text": [
      "Requirement already satisfied: psycopg2 in c:\\python\\python310\\lib\\site-packages (2.9.5)\n",
      "Collecting sqlalchemy\n",
      "  Downloading SQLAlchemy-1.4.42-cp310-cp310-win_amd64.whl (1.6 MB)\n",
      "     ---------------------------------------- 1.6/1.6 MB 4.2 MB/s eta 0:00:00\n",
      "Requirement already satisfied: pandas in c:\\python\\python310\\lib\\site-packages (1.5.1)\n",
      "Collecting greenlet!=0.4.17\n",
      "  Downloading greenlet-1.1.3.post0-cp310-cp310-win_amd64.whl (101 kB)\n",
      "     -------------------------------------- 101.9/101.9 kB 3.0 MB/s eta 0:00:00\n",
      "Requirement already satisfied: numpy>=1.21.0 in c:\\python\\python310\\lib\\site-packages (from pandas) (1.23.4)\n",
      "Requirement already satisfied: pytz>=2020.1 in c:\\python\\python310\\lib\\site-packages (from pandas) (2022.5)\n",
      "Requirement already satisfied: python-dateutil>=2.8.1 in c:\\python\\python310\\lib\\site-packages (from pandas) (2.8.2)\n",
      "Requirement already satisfied: six>=1.5 in c:\\python\\python310\\lib\\site-packages (from python-dateutil>=2.8.1->pandas) (1.16.0)\n",
      "Installing collected packages: greenlet, sqlalchemy\n",
      "Successfully installed greenlet-1.1.3.post0 sqlalchemy-1.4.42\n"
     ]
    }
   ],
   "source": [
    "!pip install psycopg2 sqlalchemy pandas"
   ]
  },
  {
   "cell_type": "code",
   "execution_count": 231,
   "id": "56164037",
   "metadata": {
    "scrolled": true
   },
   "outputs": [],
   "source": [
    "import psycopg2\n",
    "import pandas as pd\n",
    "from sqlalchemy import create_engine"
   ]
  },
  {
   "cell_type": "code",
   "execution_count": 232,
   "id": "7341f396",
   "metadata": {},
   "outputs": [],
   "source": [
    "def create_database():\n",
    "    conn = psycopg2.connect('dbname=postgres user=postgres password=admin')\n",
    "    conn.set_session(autocommit=True)\n",
    "    cursor = conn.cursor()\n",
    "    \n",
    "    cursor.execute('DROP DATABASE IF EXISTS world_cup')\n",
    "    cursor.execute('CREATE DATABASE world_cup')\n",
    "    \n",
    "    conn = psycopg2.connect('host=127.0.0.1 dbname=world_cup user=postgres password=admin')\n",
    "    cursor = conn.cursor()\n",
    "    \n",
    "    return cursor, conn"
   ]
  },
  {
   "cell_type": "code",
   "execution_count": 233,
   "id": "19364bf7",
   "metadata": {},
   "outputs": [],
   "source": [
    "def drop_tables(cursor, conn):\n",
    "    for query in drop_table_queries:\n",
    "        cursor.execute(query)\n",
    "        conn.commit()"
   ]
  },
  {
   "cell_type": "code",
   "execution_count": 234,
   "id": "f3b7104e",
   "metadata": {},
   "outputs": [],
   "source": [
    "def create_tables(cursor, conn):\n",
    "    for query in create_table_queries:\n",
    "        cursor.execute(query)\n",
    "        conn.commit()"
   ]
  },
  {
   "cell_type": "code",
   "execution_count": 235,
   "id": "2b098bcf",
   "metadata": {},
   "outputs": [],
   "source": [
    "st1 = pd.read_excel('C:/Users/Administrador/Python_postgres/team_st1.xlsx',index_col=[0])"
   ]
  },
  {
   "cell_type": "code",
   "execution_count": 236,
   "id": "d15426cd",
   "metadata": {},
   "outputs": [
    {
     "data": {
      "text/html": [
       "<div>\n",
       "<style scoped>\n",
       "    .dataframe tbody tr th:only-of-type {\n",
       "        vertical-align: middle;\n",
       "    }\n",
       "\n",
       "    .dataframe tbody tr th {\n",
       "        vertical-align: top;\n",
       "    }\n",
       "\n",
       "    .dataframe thead th {\n",
       "        text-align: right;\n",
       "    }\n",
       "</style>\n",
       "<table border=\"1\" class=\"dataframe\">\n",
       "  <thead>\n",
       "    <tr style=\"text-align: right;\">\n",
       "      <th></th>\n",
       "      <th>Country_code</th>\n",
       "      <th>Win</th>\n",
       "      <th>Draw</th>\n",
       "      <th>Loss</th>\n",
       "    </tr>\n",
       "  </thead>\n",
       "  <tbody>\n",
       "    <tr>\n",
       "      <th>0</th>\n",
       "      <td>GER</td>\n",
       "      <td>6</td>\n",
       "      <td>1</td>\n",
       "      <td>0</td>\n",
       "    </tr>\n",
       "    <tr>\n",
       "      <th>1</th>\n",
       "      <td>ARG</td>\n",
       "      <td>5</td>\n",
       "      <td>1</td>\n",
       "      <td>1</td>\n",
       "    </tr>\n",
       "    <tr>\n",
       "      <th>2</th>\n",
       "      <td>NET</td>\n",
       "      <td>5</td>\n",
       "      <td>2</td>\n",
       "      <td>0</td>\n",
       "    </tr>\n",
       "    <tr>\n",
       "      <th>3</th>\n",
       "      <td>BRA</td>\n",
       "      <td>3</td>\n",
       "      <td>2</td>\n",
       "      <td>2</td>\n",
       "    </tr>\n",
       "    <tr>\n",
       "      <th>4</th>\n",
       "      <td>COL</td>\n",
       "      <td>4</td>\n",
       "      <td>0</td>\n",
       "      <td>1</td>\n",
       "    </tr>\n",
       "  </tbody>\n",
       "</table>\n",
       "</div>"
      ],
      "text/plain": [
       "  Country_code  Win  Draw  Loss\n",
       "0          GER    6     1     0\n",
       "1          ARG    5     1     1\n",
       "2          NET    5     2     0\n",
       "3          BRA    3     2     2\n",
       "4          COL    4     0     1"
      ]
     },
     "execution_count": 236,
     "metadata": {},
     "output_type": "execute_result"
    }
   ],
   "source": [
    "st1.head()"
   ]
  },
  {
   "cell_type": "code",
   "execution_count": 237,
   "id": "e556db49",
   "metadata": {},
   "outputs": [],
   "source": [
    "st2 = pd.read_excel('C:/Users/Administrador/Python_postgres/team_st2.xlsx',index_col=[0])"
   ]
  },
  {
   "cell_type": "code",
   "execution_count": 238,
   "id": "d9183c4a",
   "metadata": {},
   "outputs": [
    {
     "data": {
      "text/html": [
       "<div>\n",
       "<style scoped>\n",
       "    .dataframe tbody tr th:only-of-type {\n",
       "        vertical-align: middle;\n",
       "    }\n",
       "\n",
       "    .dataframe tbody tr th {\n",
       "        vertical-align: top;\n",
       "    }\n",
       "\n",
       "    .dataframe thead th {\n",
       "        text-align: right;\n",
       "    }\n",
       "</style>\n",
       "<table border=\"1\" class=\"dataframe\">\n",
       "  <thead>\n",
       "    <tr style=\"text-align: right;\">\n",
       "      <th></th>\n",
       "      <th>Team</th>\n",
       "      <th>Country_code</th>\n",
       "      <th>Position</th>\n",
       "      <th>Points</th>\n",
       "    </tr>\n",
       "  </thead>\n",
       "  <tbody>\n",
       "    <tr>\n",
       "      <th>0</th>\n",
       "      <td>Germany</td>\n",
       "      <td>GER</td>\n",
       "      <td>1</td>\n",
       "      <td>19</td>\n",
       "    </tr>\n",
       "    <tr>\n",
       "      <th>1</th>\n",
       "      <td>Argentina</td>\n",
       "      <td>ARG</td>\n",
       "      <td>2</td>\n",
       "      <td>16</td>\n",
       "    </tr>\n",
       "    <tr>\n",
       "      <th>2</th>\n",
       "      <td>Netherlands</td>\n",
       "      <td>NET</td>\n",
       "      <td>3</td>\n",
       "      <td>17</td>\n",
       "    </tr>\n",
       "    <tr>\n",
       "      <th>3</th>\n",
       "      <td>Brazil</td>\n",
       "      <td>BRA</td>\n",
       "      <td>4</td>\n",
       "      <td>11</td>\n",
       "    </tr>\n",
       "    <tr>\n",
       "      <th>4</th>\n",
       "      <td>Colombia</td>\n",
       "      <td>COL</td>\n",
       "      <td>5</td>\n",
       "      <td>12</td>\n",
       "    </tr>\n",
       "  </tbody>\n",
       "</table>\n",
       "</div>"
      ],
      "text/plain": [
       "          Team Country_code  Position  Points\n",
       "0      Germany          GER         1      19\n",
       "1    Argentina          ARG         2      16\n",
       "2  Netherlands          NET         3      17\n",
       "3       Brazil          BRA         4      11\n",
       "4     Colombia          COL         5      12"
      ]
     },
     "execution_count": 238,
     "metadata": {},
     "output_type": "execute_result"
    }
   ],
   "source": [
    "st2.head()"
   ]
  },
  {
   "cell_type": "code",
   "execution_count": 239,
   "id": "2682f099",
   "metadata": {},
   "outputs": [],
   "source": [
    "st3 = pd.read_excel('C:/Users/Administrador/Python_postgres/team_st3.xlsx',index_col=[0])"
   ]
  },
  {
   "cell_type": "code",
   "execution_count": 240,
   "id": "43cc936e",
   "metadata": {},
   "outputs": [
    {
     "data": {
      "text/html": [
       "<div>\n",
       "<style scoped>\n",
       "    .dataframe tbody tr th:only-of-type {\n",
       "        vertical-align: middle;\n",
       "    }\n",
       "\n",
       "    .dataframe tbody tr th {\n",
       "        vertical-align: top;\n",
       "    }\n",
       "\n",
       "    .dataframe thead th {\n",
       "        text-align: right;\n",
       "    }\n",
       "</style>\n",
       "<table border=\"1\" class=\"dataframe\">\n",
       "  <thead>\n",
       "    <tr style=\"text-align: right;\">\n",
       "      <th></th>\n",
       "      <th>Team</th>\n",
       "      <th>Goals For</th>\n",
       "      <th>Goals Against</th>\n",
       "      <th>Goal Difference</th>\n",
       "    </tr>\n",
       "  </thead>\n",
       "  <tbody>\n",
       "    <tr>\n",
       "      <th>0</th>\n",
       "      <td>Germany</td>\n",
       "      <td>18</td>\n",
       "      <td>4</td>\n",
       "      <td>14</td>\n",
       "    </tr>\n",
       "    <tr>\n",
       "      <th>1</th>\n",
       "      <td>Argentina</td>\n",
       "      <td>8</td>\n",
       "      <td>4</td>\n",
       "      <td>4</td>\n",
       "    </tr>\n",
       "    <tr>\n",
       "      <th>2</th>\n",
       "      <td>Netherlands</td>\n",
       "      <td>15</td>\n",
       "      <td>4</td>\n",
       "      <td>11</td>\n",
       "    </tr>\n",
       "    <tr>\n",
       "      <th>3</th>\n",
       "      <td>Brazil</td>\n",
       "      <td>11</td>\n",
       "      <td>14</td>\n",
       "      <td>-3</td>\n",
       "    </tr>\n",
       "    <tr>\n",
       "      <th>4</th>\n",
       "      <td>Colombia</td>\n",
       "      <td>12</td>\n",
       "      <td>4</td>\n",
       "      <td>8</td>\n",
       "    </tr>\n",
       "  </tbody>\n",
       "</table>\n",
       "</div>"
      ],
      "text/plain": [
       "          Team  Goals For  Goals Against  Goal Difference\n",
       "0      Germany         18              4               14\n",
       "1    Argentina          8              4                4\n",
       "2  Netherlands         15              4               11\n",
       "3       Brazil         11             14               -3\n",
       "4     Colombia         12              4                8"
      ]
     },
     "execution_count": 240,
     "metadata": {},
     "output_type": "execute_result"
    }
   ],
   "source": [
    "st3.head()"
   ]
  },
  {
   "cell_type": "code",
   "execution_count": 241,
   "id": "89206cb8",
   "metadata": {},
   "outputs": [],
   "source": [
    "cursor, conn = create_database()"
   ]
  },
  {
   "cell_type": "code",
   "execution_count": 242,
   "id": "6fd5480f",
   "metadata": {},
   "outputs": [],
   "source": [
    "st1_create_table = (\"\"\"CREATE TABLE IF NOT EXISTS st1(\n",
    "country_code VARCHAR PRIMARY KEY,\n",
    "win numeric,\n",
    "draw numeric,\n",
    "loss numeric\n",
    ")\"\"\")"
   ]
  },
  {
   "cell_type": "code",
   "execution_count": 243,
   "id": "b75daa40",
   "metadata": {},
   "outputs": [],
   "source": [
    "cursor.execute(st1_create_table)\n",
    "conn.commit()"
   ]
  },
  {
   "cell_type": "code",
   "execution_count": 244,
   "id": "7a15d03d",
   "metadata": {},
   "outputs": [],
   "source": [
    "st2_create_table = (\"\"\"CREATE TABLE IF NOT EXISTS st2(\n",
    "country_code VARCHAR,\n",
    "team VARCHAR,\n",
    "position numeric,\n",
    "points numeric\n",
    ")\"\"\")"
   ]
  },
  {
   "cell_type": "code",
   "execution_count": 245,
   "id": "b425e927",
   "metadata": {},
   "outputs": [],
   "source": [
    "cursor.execute(st2_create_table)\n",
    "conn.commit()"
   ]
  },
  {
   "cell_type": "code",
   "execution_count": 246,
   "id": "19eac8b9",
   "metadata": {},
   "outputs": [],
   "source": [
    "st3_create_table = (\"\"\"CREATE TABLE IF NOT EXISTS st3(\n",
    "team VARCHAR,\n",
    "goals_for numeric,\n",
    "goals_against numeric,\n",
    "goal_difference numeric\n",
    ")\"\"\")"
   ]
  },
  {
   "cell_type": "code",
   "execution_count": 247,
   "id": "da52be3b",
   "metadata": {},
   "outputs": [],
   "source": [
    "cursor.execute(st3_create_table)\n",
    "conn.commit()"
   ]
  },
  {
   "cell_type": "code",
   "execution_count": 248,
   "id": "840a7daf",
   "metadata": {},
   "outputs": [],
   "source": [
    "st1_insert_table = (\"\"\"INSERT INTO st1(\n",
    "Country_code,\n",
    "Win,\n",
    "Draw,\n",
    "Loss)\n",
    "VALUES (%s, %s, %s, %s)\n",
    "\"\"\")"
   ]
  },
  {
   "cell_type": "code",
   "execution_count": 249,
   "id": "a6901f7f",
   "metadata": {},
   "outputs": [],
   "source": [
    "for i, row in st1.iterrows():\n",
    "    cursor.execute(st1_insert_table, list(row))"
   ]
  },
  {
   "cell_type": "code",
   "execution_count": 250,
   "id": "953fffcc",
   "metadata": {},
   "outputs": [],
   "source": [
    "conn.commit()"
   ]
  },
  {
   "cell_type": "code",
   "execution_count": 251,
   "id": "6a9bc369",
   "metadata": {},
   "outputs": [],
   "source": [
    "st2_insert_table = (\"\"\"INSERT INTO st2(\n",
    "team,\n",
    "country_code,\n",
    "position ,\n",
    "points )\n",
    "VALUES (%s, %s, %s, %s)\n",
    "\"\"\")"
   ]
  },
  {
   "cell_type": "code",
   "execution_count": 252,
   "id": "835ebbc7",
   "metadata": {},
   "outputs": [],
   "source": [
    "for i, row in st2.iterrows():\n",
    "    cursor.execute(st2_insert_table, list(row))"
   ]
  },
  {
   "cell_type": "code",
   "execution_count": 253,
   "id": "e1e213ef",
   "metadata": {},
   "outputs": [],
   "source": [
    "conn.commit()"
   ]
  },
  {
   "cell_type": "code",
   "execution_count": 254,
   "id": "c9473c05",
   "metadata": {},
   "outputs": [],
   "source": [
    "st3_insert_table = (\"\"\"INSERT INTO st3(\n",
    "team ,\n",
    "goals_for ,\n",
    "goals_against ,\n",
    "goal_difference)\n",
    "VALUES (%s, %s, %s, %s)\n",
    "\"\"\")"
   ]
  },
  {
   "cell_type": "code",
   "execution_count": 255,
   "id": "2474c7e2",
   "metadata": {},
   "outputs": [],
   "source": [
    "for i, row in st3.iterrows():\n",
    "    cursor.execute(st3_insert_table, list(row))"
   ]
  },
  {
   "cell_type": "code",
   "execution_count": 256,
   "id": "a778a60a",
   "metadata": {},
   "outputs": [],
   "source": [
    "conn.commit()"
   ]
  },
  {
   "cell_type": "code",
   "execution_count": null,
   "id": "49db6446",
   "metadata": {},
   "outputs": [],
   "source": []
  }
 ],
 "metadata": {
  "kernelspec": {
   "display_name": "Python 3 (ipykernel)",
   "language": "python",
   "name": "python3"
  },
  "language_info": {
   "codemirror_mode": {
    "name": "ipython",
    "version": 3
   },
   "file_extension": ".py",
   "mimetype": "text/x-python",
   "name": "python",
   "nbconvert_exporter": "python",
   "pygments_lexer": "ipython3",
   "version": "3.10.8"
  }
 },
 "nbformat": 4,
 "nbformat_minor": 5
}
